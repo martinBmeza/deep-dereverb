{
 "cells": [
  {
   "cell_type": "code",
   "execution_count": 22,
   "id": "f555a90b",
   "metadata": {},
   "outputs": [],
   "source": [
    "import soundfile as sf\n",
    "import numpy as np"
   ]
  },
  {
   "cell_type": "code",
   "execution_count": 23,
   "id": "465bc76c",
   "metadata": {},
   "outputs": [],
   "source": [
    "fs = 16000\n",
    "audio = np.random.rand(1 * fs) # Ruido entre 0 y 1, 1 segundo"
   ]
  },
  {
   "cell_type": "code",
   "execution_count": 24,
   "id": "3f314f3f",
   "metadata": {},
   "outputs": [],
   "source": [
    "sf.write('prueba.flac', audio, fs)"
   ]
  },
  {
   "cell_type": "code",
   "execution_count": 25,
   "id": "15c80466",
   "metadata": {},
   "outputs": [
    {
     "name": "stdout",
     "output_type": "stream",
     "text": [
      "-rw-rw-r-- 1 martin martin  31K ago  4 11:38 prueba.flac\r\n"
     ]
    }
   ],
   "source": [
    "!ls -lah | grep flac"
   ]
  },
  {
   "cell_type": "code",
   "execution_count": 26,
   "id": "333816b9",
   "metadata": {},
   "outputs": [],
   "source": [
    "sf.write('prueba.wav', audio, fs)"
   ]
  },
  {
   "cell_type": "code",
   "execution_count": 27,
   "id": "e637ec0e",
   "metadata": {},
   "outputs": [
    {
     "name": "stdout",
     "output_type": "stream",
     "text": [
      "-rw-rw-r-- 1 martin martin  32K ago  4 11:38 prueba.wav\r\n"
     ]
    }
   ],
   "source": [
    "!ls -lah | grep wav"
   ]
  },
  {
   "cell_type": "code",
   "execution_count": 28,
   "id": "3d39997a",
   "metadata": {},
   "outputs": [],
   "source": [
    "np.save('prueba.npy', audio)"
   ]
  },
  {
   "cell_type": "code",
   "execution_count": 29,
   "id": "92dd2642",
   "metadata": {},
   "outputs": [
    {
     "name": "stdout",
     "output_type": "stream",
     "text": [
      "-rw-rw-r-- 1 martin martin 126K ago  4 11:38 prueba.npy\r\n"
     ]
    }
   ],
   "source": [
    "!ls -lah | grep npy"
   ]
  },
  {
   "cell_type": "markdown",
   "id": "3c537a1a",
   "metadata": {},
   "source": [
    "**CONCLUSION** : Me conviene guardar los audios en wav ya que el peso es menor que un npy y apenas mayor a flac, y es el formato universal con el cual es menos probable tener problemas con las funciones de procesamiento, lectura y escritura."
   ]
  },
  {
   "cell_type": "code",
   "execution_count": null,
   "id": "aaa7183a",
   "metadata": {},
   "outputs": [],
   "source": []
  }
 ],
 "metadata": {
  "kernelspec": {
   "display_name": "Python 3",
   "language": "python",
   "name": "python3"
  },
  "language_info": {
   "codemirror_mode": {
    "name": "ipython",
    "version": 3
   },
   "file_extension": ".py",
   "mimetype": "text/x-python",
   "name": "python",
   "nbconvert_exporter": "python",
   "pygments_lexer": "ipython3",
   "version": "3.8.8"
  }
 },
 "nbformat": 4,
 "nbformat_minor": 5
}
