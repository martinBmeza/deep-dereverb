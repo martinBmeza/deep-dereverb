{
 "cells": [
  {
   "cell_type": "code",
   "execution_count": 59,
   "id": "affecting-invention",
   "metadata": {},
   "outputs": [],
   "source": [
    "import numpy as np \n",
    "import matplotlib.pyplot as plt \n",
    "import glob\n",
    "import soundfile as sf\n",
    "import librosa as lb\n",
    "import acoustics\n",
    "from scipy.optimize import curve_fit\n",
    "from scipy.signal import hilbert, fftconvolve\n",
    "from IPython.display import Audio\n",
    "eps = np.finfo(float).eps\n",
    "reales_path = '/mnt/datasets/impulsos/reales/'\n",
    "sinteticos_path = '/mnt/datasets/impulsos/sinteticos/audios'\n",
    "lista_rir_reales = glob.glob(reales_path+'**/*.wav',recursive=True)\n",
    "lista_rir_sintetic = glob.glob(sinteticos_path+'**/*.wav',recursive=True)\n",
    "\n",
    "def load_rir(path, target_fs, norm=True):\n",
    "    rir, fs = lb.load(path, sr = target_fs)\n",
    "    if norm:\n",
    "        rir = rir / np.max(abs(rir))\n",
    "    return rir, fs\n",
    "\n",
    "def temporal_decompose(rir, fs, win = 0.0025):\n",
    "    t_d = np.argmax(rir) # direct path\n",
    "    t_o = int((win) * fs) #tolerance window in samples (2.5 ms)\n",
    "    early= rir[(t_d - t_o):(t_d + t_o)+1]\n",
    "    late = rir[t_d + t_o+1:]\n",
    "    return early, late\n",
    "\n",
    "def normalize(arr, valor=None):\n",
    "    if valor is not None:\n",
    "        return arr/np.max(abs(valor))\n",
    "    return arr/np.max(abs(arr))\n",
    "\n",
    "def promediar_intervalos(señal, intervalo):\n",
    "    frames_enteros = int(len(señal)/intervalo)\n",
    "    resto = len(señal)%intervalo\n",
    "    salida = np.empty(len(señal))\n",
    "    for n_frame in range(frames_enteros):\n",
    "        salida[n_frame*intervalo:(n_frame+1)*intervalo] = señal[n_frame*intervalo:(n_frame+1)*intervalo].mean()\n",
    "    salida[len(señal)-resto:] = señal[len(señal)-resto:].mean() \n",
    "    return salida\n",
    "\n",
    "def curva(x, m, c):\n",
    "    return m * x + c\n",
    "\n",
    "def determinar_piso_de_ruido(path, fs):\n",
    "    #importo el impulso y me quedo con la parte late\n",
    "    rir, fs = load_rir(path, fs)\n",
    "    rir_early, rir_late = temporal_decompose(rir, fs)\n",
    "    rir_late = normalize(abs(rir_late))\n",
    "\n",
    "    #obtengo los promedios por intervalos 10-50 ms\n",
    "    intervalo_temporal = int((30 * 0.001) * fs) #30 milisegundos\n",
    "    env = normalize(promediar_intervalos(rir_late, intervalo_temporal))\n",
    "\n",
    "    #Escala logaritmica\n",
    "    env_db = 20*np.log10(env+eps)\n",
    "    rir_late_db= 20*np.log10((rir_late)+eps)\n",
    "    t = np.linspace(0,len(rir_late)/fs,len(rir_late)) #vector de tiempo\n",
    "    \n",
    "    #Primera estimacion de piso de ruido\n",
    "    ventana_ruido = int(len(env)*0.1) #10% de la señal\n",
    "    nivel_ruido_db = env_db[-ventana_ruido:].mean()\n",
    "    umbral = nivel_ruido_db + 5 # 5dB por encima del piso de ruido\n",
    "    x_umbral = np.where(env_db<umbral)[0][0]\n",
    "    y_umbral = env_db[x_umbral]\n",
    "    \n",
    "    #estimo la pendiente de caida\n",
    "    A = np.vstack([[0, x_umbral], [1, 1]]).T\n",
    "    y = [env_db[0], y_umbral]\n",
    "    m, c = np.linalg.lstsq(A, y, rcond=None)[0]\n",
    "\n",
    "    #determino punto de cruce \n",
    "    cruce_index = int((nivel_ruido_db-c)/m)\n",
    "    cruce_valor = curva(cruce_index, m, c)\n",
    "    nuevo_intervalo = int((-2-c)/m) #5 intervalos cada 10 dB\n",
    "    env_nueva = normalize(promediar_intervalos(rir_late, nuevo_intervalo))\n",
    "    env_nueva_db = 20*np.log10(env_nueva+eps)\n",
    "    for i in range(5):\n",
    "        index_inicial = np.where(env_nueva_db < cruce_valor-5)[0]\n",
    "        if index_inicial.size == 0: \n",
    "            nuevo_nivel_ruido_db = env_nueva_db[-ventana_ruido:].mean()\n",
    "        elif len(env_nueva_db[index_inicial[0]:])<ventana_ruido:\n",
    "            nuevo_nivel_ruido_db = env_nueva_db[-ventana_ruido:].mean()\n",
    "        else:\n",
    "            nuevo_nivel_ruido_db = env_nueva_db[index_inicial[0]:].mean()\n",
    "\n",
    "        distancia_al_piso = 10 #dB\n",
    "        umbral = nuevo_nivel_ruido_db + distancia_al_piso\n",
    "\n",
    "        x_umbral = np.where(env_nueva_db<umbral)[0][0]\n",
    "        y_umbral = env_nueva_db[x_umbral]\n",
    "\n",
    "        x_0dB = 0\n",
    "        y_0dB = env_nueva_db[0]\n",
    "\n",
    "        A = np.vstack([[x_0dB, x_umbral], [1, 1]]).T\n",
    "        y = [y_0dB, y_umbral]\n",
    "        m, c = np.linalg.lstsq(A, y, rcond=None)[0]\n",
    "\n",
    "        regresion = curva(np.linspace(0, len(env)-1, len(env)), m, c)\n",
    "\n",
    "        #determino nuevo punto de cruce \n",
    "        cruce_index = int((nuevo_nivel_ruido_db-c)/m)\n",
    "        cruce_valor = curva(cruce_index, m, c)\n",
    "    return cruce_index, cruce_valor"
   ]
  },
  {
   "cell_type": "code",
   "execution_count": 61,
   "id": "latest-medicine",
   "metadata": {},
   "outputs": [
    {
     "data": {
      "text/plain": [
       "(14493, -86.05966287847714)"
      ]
     },
     "execution_count": 61,
     "metadata": {},
     "output_type": "execute_result"
    }
   ],
   "source": [
    "determinar_piso_de_ruido(lista_rir_sintetic[17], 16000)"
   ]
  },
  {
   "cell_type": "code",
   "execution_count": 42,
   "id": "hungarian-superintendent",
   "metadata": {},
   "outputs": [],
   "source": []
  },
  {
   "cell_type": "code",
   "execution_count": 43,
   "id": "sixth-spyware",
   "metadata": {},
   "outputs": [],
   "source": []
  },
  {
   "cell_type": "code",
   "execution_count": 44,
   "id": "anonymous-official",
   "metadata": {},
   "outputs": [],
   "source": []
  },
  {
   "cell_type": "code",
   "execution_count": 45,
   "id": "wooden-overall",
   "metadata": {},
   "outputs": [],
   "source": []
  },
  {
   "cell_type": "code",
   "execution_count": 47,
   "id": "extreme-dress",
   "metadata": {},
   "outputs": [
    {
     "name": "stdout",
     "output_type": "stream",
     "text": [
      "-34.30972957068459\n",
      "-34.30972957068459\n",
      "-34.30972957068459\n",
      "-34.30972957068459\n",
      "-34.30972957068459\n"
     ]
    }
   ],
   "source": [
    "\n",
    "\n",
    "    \n"
   ]
  },
  {
   "cell_type": "code",
   "execution_count": null,
   "id": "fleet-contract",
   "metadata": {},
   "outputs": [],
   "source": []
  }
 ],
 "metadata": {
  "kernelspec": {
   "display_name": "Python 3.7 (tf)",
   "language": "python",
   "name": "tf"
  },
  "language_info": {
   "codemirror_mode": {
    "name": "ipython",
    "version": 3
   },
   "file_extension": ".py",
   "mimetype": "text/x-python",
   "name": "python",
   "nbconvert_exporter": "python",
   "pygments_lexer": "ipython3",
   "version": "3.7.9"
  }
 },
 "nbformat": 4,
 "nbformat_minor": 5
}
